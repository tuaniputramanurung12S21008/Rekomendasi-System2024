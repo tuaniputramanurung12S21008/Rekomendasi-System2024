{
  "nbformat": 4,
  "nbformat_minor": 0,
  "metadata": {
    "colab": {
      "provenance": []
    },
    "kernelspec": {
      "name": "python3",
      "display_name": "Python 3"
    },
    "language_info": {
      "name": "python"
    }
  },
  "cells": [
    {
      "cell_type": "code",
      "source": [
        "!pip install scikit-surprise\n",
        "!pip install Sastrawi"
      ],
      "metadata": {
        "colab": {
          "base_uri": "https://localhost:8080/"
        },
        "id": "gARL0eYpFfpS",
        "outputId": "36f5b76c-08e7-4c24-9b90-00d942807d38"
      },
      "execution_count": 25,
      "outputs": [
        {
          "output_type": "stream",
          "name": "stdout",
          "text": [
            "Requirement already satisfied: scikit-surprise in /usr/local/lib/python3.10/dist-packages (1.1.4)\n",
            "Requirement already satisfied: joblib>=1.2.0 in /usr/local/lib/python3.10/dist-packages (from scikit-surprise) (1.4.2)\n",
            "Requirement already satisfied: numpy>=1.19.5 in /usr/local/lib/python3.10/dist-packages (from scikit-surprise) (1.26.4)\n",
            "Requirement already satisfied: scipy>=1.6.0 in /usr/local/lib/python3.10/dist-packages (from scikit-surprise) (1.13.1)\n",
            "Requirement already satisfied: Sastrawi in /usr/local/lib/python3.10/dist-packages (1.0.1)\n"
          ]
        }
      ]
    },
    {
      "cell_type": "markdown",
      "source": [],
      "metadata": {
        "id": "DSMpowJkYZa3"
      }
    },
    {
      "cell_type": "code",
      "execution_count": 26,
      "metadata": {
        "id": "nNbMiNiPFHlm"
      },
      "outputs": [],
      "source": [
        "import pandas as pd\n",
        "import numpy as np\n",
        "from sklearn.model_selection import train_test_split\n",
        "from sklearn.feature_extraction.text import TfidfVectorizer\n",
        "from sklearn.metrics.pairwise import cosine_similarity\n",
        "from surprise import SVD, Dataset, Reader\n",
        "from surprise.model_selection import GridSearchCV\n",
        "from sklearn.preprocessing import MinMaxScaler, LabelEncoder\n",
        "from sklearn.metrics import mean_squared_error, mean_absolute_error, precision_score, recall_score\n",
        "from Sastrawi.StopWordRemover.StopWordRemoverFactory import StopWordRemoverFactory\n",
        "import warnings\n",
        "\n",
        "warnings.filterwarnings(\"ignore\")"
      ]
    },
    {
      "cell_type": "code",
      "source": [
        "# Load dataset\n",
        "data = pd.read_csv(\"sample_data/Tempat-Wisata-Toba-Preprocessing.csv\")"
      ],
      "metadata": {
        "id": "RPdjlCWWKHSm"
      },
      "execution_count": 27,
      "outputs": []
    },
    {
      "cell_type": "code",
      "source": [
        "display(data)"
      ],
      "metadata": {
        "colab": {
          "base_uri": "https://localhost:8080/",
          "height": 424
        },
        "id": "J96nbUjbKJ7I",
        "outputId": "173c9192-d208-437f-9e40-276c5691dd3b"
      },
      "execution_count": 28,
      "outputs": [
        {
          "output_type": "display_data",
          "data": {
            "text/plain": [
              "       Unnamed: 0.1  Unnamed: 0  \\\n",
              "0                 0           0   \n",
              "1                 1           1   \n",
              "2                 2           2   \n",
              "3                 3           3   \n",
              "4                 4           4   \n",
              "...             ...         ...   \n",
              "43221         43221       43221   \n",
              "43222         43222       43222   \n",
              "43223         43223       43223   \n",
              "43224         43224       43224   \n",
              "43225         43225       43225   \n",
              "\n",
              "                                                 address  PlaceID  \\\n",
              "0      Jl. Sibola Hotang, Sibola Hotangsas, Kec. Bali...        0   \n",
              "1      Jl. Sibola Hotang, Sibola Hotangsas, Kec. Bali...        0   \n",
              "2      Jl. Sibola Hotang, Sibola Hotangsas, Kec. Bali...        0   \n",
              "3      Jl. Sibola Hotang, Sibola Hotangsas, Kec. Bali...        0   \n",
              "4      Jl. Sibola Hotang, Sibola Hotangsas, Kec. Bali...        0   \n",
              "...                                                  ...      ...   \n",
              "43221  MWMG+GCG, Jalan Siborong Borong - Parapat, Sib...      101   \n",
              "43222  MWMG+GCG, Jalan Siborong Borong - Parapat, Sib...      101   \n",
              "43223  MWMG+GCG, Jalan Siborong Borong - Parapat, Sib...      101   \n",
              "43224  MWMG+GCG, Jalan Siborong Borong - Parapat, Sib...      101   \n",
              "43225  MWMG+GCG, Jalan Siborong Borong - Parapat, Sib...      101   \n",
              "\n",
              "              Nama_tempat_wisata       Category    ReviewerId  Rating  \\\n",
              "0      PASIR PUTIH LUMBAN BULBUL  Wisata Bahari  1.126030e+20     5.0   \n",
              "1      PASIR PUTIH LUMBAN BULBUL  Wisata Bahari  1.119090e+20     5.0   \n",
              "2      PASIR PUTIH LUMBAN BULBUL  Wisata Bahari  1.078860e+20     5.0   \n",
              "3      PASIR PUTIH LUMBAN BULBUL  Wisata Bahari  1.130720e+20     5.0   \n",
              "4      PASIR PUTIH LUMBAN BULBUL  Wisata Bahari  1.061730e+20     5.0   \n",
              "...                          ...            ...           ...     ...   \n",
              "43221         Danau Toba Parapat  Wisata Bahari  1.109990e+20     5.0   \n",
              "43222         Danau Toba Parapat  Wisata Bahari  1.130740e+20     5.0   \n",
              "43223         Danau Toba Parapat  Wisata Bahari  1.081140e+20     5.0   \n",
              "43224         Danau Toba Parapat  Wisata Bahari  1.121780e+20     5.0   \n",
              "43225         Danau Toba Parapat  Wisata Bahari  1.034890e+20     5.0   \n",
              "\n",
              "                                                 Reviews  \n",
              "0                                                    NaN  \n",
              "1                                                  bagus  \n",
              "2                                                    NaN  \n",
              "3                                     sangat menyenagkan  \n",
              "4                          bebas foto dimana aja cuma 2k  \n",
              "...                                                  ...  \n",
              "43221                                                NaN  \n",
              "43222                                                NaN  \n",
              "43223                                                NaN  \n",
              "43224                                                NaN  \n",
              "43225  lokasi wisata yg indah berupa danau yg tercipt...  \n",
              "\n",
              "[43226 rows x 9 columns]"
            ],
            "text/html": [
              "\n",
              "  <div id=\"df-2097090a-b42f-495d-a851-a69aeee29487\" class=\"colab-df-container\">\n",
              "    <div>\n",
              "<style scoped>\n",
              "    .dataframe tbody tr th:only-of-type {\n",
              "        vertical-align: middle;\n",
              "    }\n",
              "\n",
              "    .dataframe tbody tr th {\n",
              "        vertical-align: top;\n",
              "    }\n",
              "\n",
              "    .dataframe thead th {\n",
              "        text-align: right;\n",
              "    }\n",
              "</style>\n",
              "<table border=\"1\" class=\"dataframe\">\n",
              "  <thead>\n",
              "    <tr style=\"text-align: right;\">\n",
              "      <th></th>\n",
              "      <th>Unnamed: 0.1</th>\n",
              "      <th>Unnamed: 0</th>\n",
              "      <th>address</th>\n",
              "      <th>PlaceID</th>\n",
              "      <th>Nama_tempat_wisata</th>\n",
              "      <th>Category</th>\n",
              "      <th>ReviewerId</th>\n",
              "      <th>Rating</th>\n",
              "      <th>Reviews</th>\n",
              "    </tr>\n",
              "  </thead>\n",
              "  <tbody>\n",
              "    <tr>\n",
              "      <th>0</th>\n",
              "      <td>0</td>\n",
              "      <td>0</td>\n",
              "      <td>Jl. Sibola Hotang, Sibola Hotangsas, Kec. Bali...</td>\n",
              "      <td>0</td>\n",
              "      <td>PASIR PUTIH LUMBAN BULBUL</td>\n",
              "      <td>Wisata Bahari</td>\n",
              "      <td>1.126030e+20</td>\n",
              "      <td>5.0</td>\n",
              "      <td>NaN</td>\n",
              "    </tr>\n",
              "    <tr>\n",
              "      <th>1</th>\n",
              "      <td>1</td>\n",
              "      <td>1</td>\n",
              "      <td>Jl. Sibola Hotang, Sibola Hotangsas, Kec. Bali...</td>\n",
              "      <td>0</td>\n",
              "      <td>PASIR PUTIH LUMBAN BULBUL</td>\n",
              "      <td>Wisata Bahari</td>\n",
              "      <td>1.119090e+20</td>\n",
              "      <td>5.0</td>\n",
              "      <td>bagus</td>\n",
              "    </tr>\n",
              "    <tr>\n",
              "      <th>2</th>\n",
              "      <td>2</td>\n",
              "      <td>2</td>\n",
              "      <td>Jl. Sibola Hotang, Sibola Hotangsas, Kec. Bali...</td>\n",
              "      <td>0</td>\n",
              "      <td>PASIR PUTIH LUMBAN BULBUL</td>\n",
              "      <td>Wisata Bahari</td>\n",
              "      <td>1.078860e+20</td>\n",
              "      <td>5.0</td>\n",
              "      <td>NaN</td>\n",
              "    </tr>\n",
              "    <tr>\n",
              "      <th>3</th>\n",
              "      <td>3</td>\n",
              "      <td>3</td>\n",
              "      <td>Jl. Sibola Hotang, Sibola Hotangsas, Kec. Bali...</td>\n",
              "      <td>0</td>\n",
              "      <td>PASIR PUTIH LUMBAN BULBUL</td>\n",
              "      <td>Wisata Bahari</td>\n",
              "      <td>1.130720e+20</td>\n",
              "      <td>5.0</td>\n",
              "      <td>sangat menyenagkan</td>\n",
              "    </tr>\n",
              "    <tr>\n",
              "      <th>4</th>\n",
              "      <td>4</td>\n",
              "      <td>4</td>\n",
              "      <td>Jl. Sibola Hotang, Sibola Hotangsas, Kec. Bali...</td>\n",
              "      <td>0</td>\n",
              "      <td>PASIR PUTIH LUMBAN BULBUL</td>\n",
              "      <td>Wisata Bahari</td>\n",
              "      <td>1.061730e+20</td>\n",
              "      <td>5.0</td>\n",
              "      <td>bebas foto dimana aja cuma 2k</td>\n",
              "    </tr>\n",
              "    <tr>\n",
              "      <th>...</th>\n",
              "      <td>...</td>\n",
              "      <td>...</td>\n",
              "      <td>...</td>\n",
              "      <td>...</td>\n",
              "      <td>...</td>\n",
              "      <td>...</td>\n",
              "      <td>...</td>\n",
              "      <td>...</td>\n",
              "      <td>...</td>\n",
              "    </tr>\n",
              "    <tr>\n",
              "      <th>43221</th>\n",
              "      <td>43221</td>\n",
              "      <td>43221</td>\n",
              "      <td>MWMG+GCG, Jalan Siborong Borong - Parapat, Sib...</td>\n",
              "      <td>101</td>\n",
              "      <td>Danau Toba Parapat</td>\n",
              "      <td>Wisata Bahari</td>\n",
              "      <td>1.109990e+20</td>\n",
              "      <td>5.0</td>\n",
              "      <td>NaN</td>\n",
              "    </tr>\n",
              "    <tr>\n",
              "      <th>43222</th>\n",
              "      <td>43222</td>\n",
              "      <td>43222</td>\n",
              "      <td>MWMG+GCG, Jalan Siborong Borong - Parapat, Sib...</td>\n",
              "      <td>101</td>\n",
              "      <td>Danau Toba Parapat</td>\n",
              "      <td>Wisata Bahari</td>\n",
              "      <td>1.130740e+20</td>\n",
              "      <td>5.0</td>\n",
              "      <td>NaN</td>\n",
              "    </tr>\n",
              "    <tr>\n",
              "      <th>43223</th>\n",
              "      <td>43223</td>\n",
              "      <td>43223</td>\n",
              "      <td>MWMG+GCG, Jalan Siborong Borong - Parapat, Sib...</td>\n",
              "      <td>101</td>\n",
              "      <td>Danau Toba Parapat</td>\n",
              "      <td>Wisata Bahari</td>\n",
              "      <td>1.081140e+20</td>\n",
              "      <td>5.0</td>\n",
              "      <td>NaN</td>\n",
              "    </tr>\n",
              "    <tr>\n",
              "      <th>43224</th>\n",
              "      <td>43224</td>\n",
              "      <td>43224</td>\n",
              "      <td>MWMG+GCG, Jalan Siborong Borong - Parapat, Sib...</td>\n",
              "      <td>101</td>\n",
              "      <td>Danau Toba Parapat</td>\n",
              "      <td>Wisata Bahari</td>\n",
              "      <td>1.121780e+20</td>\n",
              "      <td>5.0</td>\n",
              "      <td>NaN</td>\n",
              "    </tr>\n",
              "    <tr>\n",
              "      <th>43225</th>\n",
              "      <td>43225</td>\n",
              "      <td>43225</td>\n",
              "      <td>MWMG+GCG, Jalan Siborong Borong - Parapat, Sib...</td>\n",
              "      <td>101</td>\n",
              "      <td>Danau Toba Parapat</td>\n",
              "      <td>Wisata Bahari</td>\n",
              "      <td>1.034890e+20</td>\n",
              "      <td>5.0</td>\n",
              "      <td>lokasi wisata yg indah berupa danau yg tercipt...</td>\n",
              "    </tr>\n",
              "  </tbody>\n",
              "</table>\n",
              "<p>43226 rows × 9 columns</p>\n",
              "</div>\n",
              "    <div class=\"colab-df-buttons\">\n",
              "\n",
              "  <div class=\"colab-df-container\">\n",
              "    <button class=\"colab-df-convert\" onclick=\"convertToInteractive('df-2097090a-b42f-495d-a851-a69aeee29487')\"\n",
              "            title=\"Convert this dataframe to an interactive table.\"\n",
              "            style=\"display:none;\">\n",
              "\n",
              "  <svg xmlns=\"http://www.w3.org/2000/svg\" height=\"24px\" viewBox=\"0 -960 960 960\">\n",
              "    <path d=\"M120-120v-720h720v720H120Zm60-500h600v-160H180v160Zm220 220h160v-160H400v160Zm0 220h160v-160H400v160ZM180-400h160v-160H180v160Zm440 0h160v-160H620v160ZM180-180h160v-160H180v160Zm440 0h160v-160H620v160Z\"/>\n",
              "  </svg>\n",
              "    </button>\n",
              "\n",
              "  <style>\n",
              "    .colab-df-container {\n",
              "      display:flex;\n",
              "      gap: 12px;\n",
              "    }\n",
              "\n",
              "    .colab-df-convert {\n",
              "      background-color: #E8F0FE;\n",
              "      border: none;\n",
              "      border-radius: 50%;\n",
              "      cursor: pointer;\n",
              "      display: none;\n",
              "      fill: #1967D2;\n",
              "      height: 32px;\n",
              "      padding: 0 0 0 0;\n",
              "      width: 32px;\n",
              "    }\n",
              "\n",
              "    .colab-df-convert:hover {\n",
              "      background-color: #E2EBFA;\n",
              "      box-shadow: 0px 1px 2px rgba(60, 64, 67, 0.3), 0px 1px 3px 1px rgba(60, 64, 67, 0.15);\n",
              "      fill: #174EA6;\n",
              "    }\n",
              "\n",
              "    .colab-df-buttons div {\n",
              "      margin-bottom: 4px;\n",
              "    }\n",
              "\n",
              "    [theme=dark] .colab-df-convert {\n",
              "      background-color: #3B4455;\n",
              "      fill: #D2E3FC;\n",
              "    }\n",
              "\n",
              "    [theme=dark] .colab-df-convert:hover {\n",
              "      background-color: #434B5C;\n",
              "      box-shadow: 0px 1px 3px 1px rgba(0, 0, 0, 0.15);\n",
              "      filter: drop-shadow(0px 1px 2px rgba(0, 0, 0, 0.3));\n",
              "      fill: #FFFFFF;\n",
              "    }\n",
              "  </style>\n",
              "\n",
              "    <script>\n",
              "      const buttonEl =\n",
              "        document.querySelector('#df-2097090a-b42f-495d-a851-a69aeee29487 button.colab-df-convert');\n",
              "      buttonEl.style.display =\n",
              "        google.colab.kernel.accessAllowed ? 'block' : 'none';\n",
              "\n",
              "      async function convertToInteractive(key) {\n",
              "        const element = document.querySelector('#df-2097090a-b42f-495d-a851-a69aeee29487');\n",
              "        const dataTable =\n",
              "          await google.colab.kernel.invokeFunction('convertToInteractive',\n",
              "                                                    [key], {});\n",
              "        if (!dataTable) return;\n",
              "\n",
              "        const docLinkHtml = 'Like what you see? Visit the ' +\n",
              "          '<a target=\"_blank\" href=https://colab.research.google.com/notebooks/data_table.ipynb>data table notebook</a>'\n",
              "          + ' to learn more about interactive tables.';\n",
              "        element.innerHTML = '';\n",
              "        dataTable['output_type'] = 'display_data';\n",
              "        await google.colab.output.renderOutput(dataTable, element);\n",
              "        const docLink = document.createElement('div');\n",
              "        docLink.innerHTML = docLinkHtml;\n",
              "        element.appendChild(docLink);\n",
              "      }\n",
              "    </script>\n",
              "  </div>\n",
              "\n",
              "\n",
              "<div id=\"df-b6306af4-0ff5-44e6-bb41-97cdae91912b\">\n",
              "  <button class=\"colab-df-quickchart\" onclick=\"quickchart('df-b6306af4-0ff5-44e6-bb41-97cdae91912b')\"\n",
              "            title=\"Suggest charts\"\n",
              "            style=\"display:none;\">\n",
              "\n",
              "<svg xmlns=\"http://www.w3.org/2000/svg\" height=\"24px\"viewBox=\"0 0 24 24\"\n",
              "     width=\"24px\">\n",
              "    <g>\n",
              "        <path d=\"M19 3H5c-1.1 0-2 .9-2 2v14c0 1.1.9 2 2 2h14c1.1 0 2-.9 2-2V5c0-1.1-.9-2-2-2zM9 17H7v-7h2v7zm4 0h-2V7h2v10zm4 0h-2v-4h2v4z\"/>\n",
              "    </g>\n",
              "</svg>\n",
              "  </button>\n",
              "\n",
              "<style>\n",
              "  .colab-df-quickchart {\n",
              "      --bg-color: #E8F0FE;\n",
              "      --fill-color: #1967D2;\n",
              "      --hover-bg-color: #E2EBFA;\n",
              "      --hover-fill-color: #174EA6;\n",
              "      --disabled-fill-color: #AAA;\n",
              "      --disabled-bg-color: #DDD;\n",
              "  }\n",
              "\n",
              "  [theme=dark] .colab-df-quickchart {\n",
              "      --bg-color: #3B4455;\n",
              "      --fill-color: #D2E3FC;\n",
              "      --hover-bg-color: #434B5C;\n",
              "      --hover-fill-color: #FFFFFF;\n",
              "      --disabled-bg-color: #3B4455;\n",
              "      --disabled-fill-color: #666;\n",
              "  }\n",
              "\n",
              "  .colab-df-quickchart {\n",
              "    background-color: var(--bg-color);\n",
              "    border: none;\n",
              "    border-radius: 50%;\n",
              "    cursor: pointer;\n",
              "    display: none;\n",
              "    fill: var(--fill-color);\n",
              "    height: 32px;\n",
              "    padding: 0;\n",
              "    width: 32px;\n",
              "  }\n",
              "\n",
              "  .colab-df-quickchart:hover {\n",
              "    background-color: var(--hover-bg-color);\n",
              "    box-shadow: 0 1px 2px rgba(60, 64, 67, 0.3), 0 1px 3px 1px rgba(60, 64, 67, 0.15);\n",
              "    fill: var(--button-hover-fill-color);\n",
              "  }\n",
              "\n",
              "  .colab-df-quickchart-complete:disabled,\n",
              "  .colab-df-quickchart-complete:disabled:hover {\n",
              "    background-color: var(--disabled-bg-color);\n",
              "    fill: var(--disabled-fill-color);\n",
              "    box-shadow: none;\n",
              "  }\n",
              "\n",
              "  .colab-df-spinner {\n",
              "    border: 2px solid var(--fill-color);\n",
              "    border-color: transparent;\n",
              "    border-bottom-color: var(--fill-color);\n",
              "    animation:\n",
              "      spin 1s steps(1) infinite;\n",
              "  }\n",
              "\n",
              "  @keyframes spin {\n",
              "    0% {\n",
              "      border-color: transparent;\n",
              "      border-bottom-color: var(--fill-color);\n",
              "      border-left-color: var(--fill-color);\n",
              "    }\n",
              "    20% {\n",
              "      border-color: transparent;\n",
              "      border-left-color: var(--fill-color);\n",
              "      border-top-color: var(--fill-color);\n",
              "    }\n",
              "    30% {\n",
              "      border-color: transparent;\n",
              "      border-left-color: var(--fill-color);\n",
              "      border-top-color: var(--fill-color);\n",
              "      border-right-color: var(--fill-color);\n",
              "    }\n",
              "    40% {\n",
              "      border-color: transparent;\n",
              "      border-right-color: var(--fill-color);\n",
              "      border-top-color: var(--fill-color);\n",
              "    }\n",
              "    60% {\n",
              "      border-color: transparent;\n",
              "      border-right-color: var(--fill-color);\n",
              "    }\n",
              "    80% {\n",
              "      border-color: transparent;\n",
              "      border-right-color: var(--fill-color);\n",
              "      border-bottom-color: var(--fill-color);\n",
              "    }\n",
              "    90% {\n",
              "      border-color: transparent;\n",
              "      border-bottom-color: var(--fill-color);\n",
              "    }\n",
              "  }\n",
              "</style>\n",
              "\n",
              "  <script>\n",
              "    async function quickchart(key) {\n",
              "      const quickchartButtonEl =\n",
              "        document.querySelector('#' + key + ' button');\n",
              "      quickchartButtonEl.disabled = true;  // To prevent multiple clicks.\n",
              "      quickchartButtonEl.classList.add('colab-df-spinner');\n",
              "      try {\n",
              "        const charts = await google.colab.kernel.invokeFunction(\n",
              "            'suggestCharts', [key], {});\n",
              "      } catch (error) {\n",
              "        console.error('Error during call to suggestCharts:', error);\n",
              "      }\n",
              "      quickchartButtonEl.classList.remove('colab-df-spinner');\n",
              "      quickchartButtonEl.classList.add('colab-df-quickchart-complete');\n",
              "    }\n",
              "    (() => {\n",
              "      let quickchartButtonEl =\n",
              "        document.querySelector('#df-b6306af4-0ff5-44e6-bb41-97cdae91912b button');\n",
              "      quickchartButtonEl.style.display =\n",
              "        google.colab.kernel.accessAllowed ? 'block' : 'none';\n",
              "    })();\n",
              "  </script>\n",
              "</div>\n",
              "\n",
              "  <div id=\"id_5b5fbcd1-a42f-4d8e-a797-373ccf24cf46\">\n",
              "    <style>\n",
              "      .colab-df-generate {\n",
              "        background-color: #E8F0FE;\n",
              "        border: none;\n",
              "        border-radius: 50%;\n",
              "        cursor: pointer;\n",
              "        display: none;\n",
              "        fill: #1967D2;\n",
              "        height: 32px;\n",
              "        padding: 0 0 0 0;\n",
              "        width: 32px;\n",
              "      }\n",
              "\n",
              "      .colab-df-generate:hover {\n",
              "        background-color: #E2EBFA;\n",
              "        box-shadow: 0px 1px 2px rgba(60, 64, 67, 0.3), 0px 1px 3px 1px rgba(60, 64, 67, 0.15);\n",
              "        fill: #174EA6;\n",
              "      }\n",
              "\n",
              "      [theme=dark] .colab-df-generate {\n",
              "        background-color: #3B4455;\n",
              "        fill: #D2E3FC;\n",
              "      }\n",
              "\n",
              "      [theme=dark] .colab-df-generate:hover {\n",
              "        background-color: #434B5C;\n",
              "        box-shadow: 0px 1px 3px 1px rgba(0, 0, 0, 0.15);\n",
              "        filter: drop-shadow(0px 1px 2px rgba(0, 0, 0, 0.3));\n",
              "        fill: #FFFFFF;\n",
              "      }\n",
              "    </style>\n",
              "    <button class=\"colab-df-generate\" onclick=\"generateWithVariable('data')\"\n",
              "            title=\"Generate code using this dataframe.\"\n",
              "            style=\"display:none;\">\n",
              "\n",
              "  <svg xmlns=\"http://www.w3.org/2000/svg\" height=\"24px\"viewBox=\"0 0 24 24\"\n",
              "       width=\"24px\">\n",
              "    <path d=\"M7,19H8.4L18.45,9,17,7.55,7,17.6ZM5,21V16.75L18.45,3.32a2,2,0,0,1,2.83,0l1.4,1.43a1.91,1.91,0,0,1,.58,1.4,1.91,1.91,0,0,1-.58,1.4L9.25,21ZM18.45,9,17,7.55Zm-12,3A5.31,5.31,0,0,0,4.9,8.1,5.31,5.31,0,0,0,1,6.5,5.31,5.31,0,0,0,4.9,4.9,5.31,5.31,0,0,0,6.5,1,5.31,5.31,0,0,0,8.1,4.9,5.31,5.31,0,0,0,12,6.5,5.46,5.46,0,0,0,6.5,12Z\"/>\n",
              "  </svg>\n",
              "    </button>\n",
              "    <script>\n",
              "      (() => {\n",
              "      const buttonEl =\n",
              "        document.querySelector('#id_5b5fbcd1-a42f-4d8e-a797-373ccf24cf46 button.colab-df-generate');\n",
              "      buttonEl.style.display =\n",
              "        google.colab.kernel.accessAllowed ? 'block' : 'none';\n",
              "\n",
              "      buttonEl.onclick = () => {\n",
              "        google.colab.notebook.generateWithVariable('data');\n",
              "      }\n",
              "      })();\n",
              "    </script>\n",
              "  </div>\n",
              "\n",
              "    </div>\n",
              "  </div>\n"
            ],
            "application/vnd.google.colaboratory.intrinsic+json": {
              "type": "dataframe",
              "variable_name": "data",
              "summary": "{\n  \"name\": \"data\",\n  \"rows\": 43226,\n  \"fields\": [\n    {\n      \"column\": \"Unnamed: 0.1\",\n      \"properties\": {\n        \"dtype\": \"number\",\n        \"std\": 12478,\n        \"min\": 0,\n        \"max\": 43225,\n        \"num_unique_values\": 43226,\n        \"samples\": [\n          465,\n          1278,\n          15320\n        ],\n        \"semantic_type\": \"\",\n        \"description\": \"\"\n      }\n    },\n    {\n      \"column\": \"Unnamed: 0\",\n      \"properties\": {\n        \"dtype\": \"number\",\n        \"std\": 12478,\n        \"min\": 0,\n        \"max\": 43225,\n        \"num_unique_values\": 43226,\n        \"samples\": [\n          465,\n          1278,\n          15320\n        ],\n        \"semantic_type\": \"\",\n        \"description\": \"\"\n      }\n    },\n    {\n      \"column\": \"address\",\n      \"properties\": {\n        \"dtype\": \"category\",\n        \"num_unique_values\": 100,\n        \"samples\": [\n          \"WG69+M82, Tongging, Kec. Merek, Kabupaten Karo, Sumatera Utara 22173, Indonesia\",\n          \"83M7+RJ4, Napitupulu Bagasan, Kec. Balige, Toba, Sumatera Utara, Indonesia\",\n          \"Taman Eden, Ps. Lumban Julu, Kec. Lumban Julu, Toba, Sumatera Utara 22386, Indonesia\"\n        ],\n        \"semantic_type\": \"\",\n        \"description\": \"\"\n      }\n    },\n    {\n      \"column\": \"PlaceID\",\n      \"properties\": {\n        \"dtype\": \"number\",\n        \"std\": 28,\n        \"min\": 0,\n        \"max\": 101,\n        \"num_unique_values\": 102,\n        \"samples\": [\n          30,\n          67,\n          62\n        ],\n        \"semantic_type\": \"\",\n        \"description\": \"\"\n      }\n    },\n    {\n      \"column\": \"Nama_tempat_wisata\",\n      \"properties\": {\n        \"dtype\": \"category\",\n        \"num_unique_values\": 102,\n        \"samples\": [\n          \"Panatapan Tara Bunga\",\n          \"Pantai Indah Situngkir (PIS)\",\n          \"Pasar Tomok\"\n        ],\n        \"semantic_type\": \"\",\n        \"description\": \"\"\n      }\n    },\n    {\n      \"column\": \"Category\",\n      \"properties\": {\n        \"dtype\": \"category\",\n        \"num_unique_values\": 8,\n        \"samples\": [\n          \"Wisata Rohani\",\n          \"Wisata Sejarah\",\n          \"Wisata Bahari\"\n        ],\n        \"semantic_type\": \"\",\n        \"description\": \"\"\n      }\n    },\n    {\n      \"column\": \"ReviewerId\",\n      \"properties\": {\n        \"dtype\": \"number\",\n        \"std\": 5.343909672784782e+18,\n        \"min\": 1.00001e+20,\n        \"max\": 1.18446e+20,\n        \"num_unique_values\": 15011,\n        \"samples\": [\n          1.07312e+20,\n          1.03124e+20,\n          1.03245e+20\n        ],\n        \"semantic_type\": \"\",\n        \"description\": \"\"\n      }\n    },\n    {\n      \"column\": \"Rating\",\n      \"properties\": {\n        \"dtype\": \"number\",\n        \"std\": 0.9277599389462311,\n        \"min\": 1.0,\n        \"max\": 5.0,\n        \"num_unique_values\": 5,\n        \"samples\": [\n          2.0,\n          1.0,\n          3.0\n        ],\n        \"semantic_type\": \"\",\n        \"description\": \"\"\n      }\n    },\n    {\n      \"column\": \"Reviews\",\n      \"properties\": {\n        \"dtype\": \"category\",\n        \"num_unique_values\": 17992,\n        \"samples\": [\n          \"tidak ramah disabilitas tidak ada fasilitas pengguna kursi roda tidak ramah anak track berbatu cukup berbahaya\\narea parkir tidak bagus dengan biaya parkir rp10rb sangat tidak masuk akal\\nuntuk spot foto lumayan tidak lebih istimewa dibanding tempat lain di sekitar danau toba\",\n          \"keren kali buat nembak si polan cuy\\ud83d\\ude01\",\n          \"diterjemahkan oleh google bagus\\n\\nasli\\nnice\"\n        ],\n        \"semantic_type\": \"\",\n        \"description\": \"\"\n      }\n    }\n  ]\n}"
            }
          },
          "metadata": {}
        }
      ]
    },
    {
      "cell_type": "markdown",
      "source": [
        "## Data Prepocessing"
      ],
      "metadata": {
        "id": "4A-mHOMrTEyE"
      }
    },
    {
      "cell_type": "code",
      "source": [
        "def preprocess_data(data):\n",
        "    data = data.dropna()\n",
        "    data = data.drop([\"Unnamed: 0\", \"Unnamed: 0.1\"], axis=1)\n",
        "    scaler = MinMaxScaler()\n",
        "    data[\"NormalRating\"] = scaler.fit_transform(data[[\"Rating\"]])\n",
        "    le_user = LabelEncoder()\n",
        "    le_place = LabelEncoder()\n",
        "    data[\"ReviewerId\"] = le_user.fit_transform(data[\"ReviewerId\"])\n",
        "    data[\"PlaceID\"] = le_place.fit_transform(data[\"PlaceID\"])\n",
        "    train, test = train_test_split(data, test_size=0.3, random_state=42)\n",
        "    test, val = train_test_split(test, test_size=0.5, random_state=42)\n",
        "    return train, test, val, le_user, le_place"
      ],
      "metadata": {
        "id": "xFU5jmeeKOaX"
      },
      "execution_count": 29,
      "outputs": []
    },
    {
      "cell_type": "markdown",
      "source": [
        "Mempersiapkan data dengan menghapus data yang tidak lengkap, menormalkan rating, mengkonversi ID kategori ke angka , dan membagi dataset menjadi pelatihan, pengujian, dan validasi."
      ],
      "metadata": {
        "id": "FsdYDWKRIR89"
      }
    },
    {
      "cell_type": "markdown",
      "source": [
        "## Membangun Model"
      ],
      "metadata": {
        "id": "IjPWLntnUxoe"
      }
    },
    {
      "cell_type": "code",
      "source": [
        "# Hybrid Model\n",
        "import numpy as np\n",
        "from surprise import SVD, Dataset, Reader\n",
        "from surprise.model_selection import GridSearchCV\n",
        "from sklearn.feature_extraction.text import TfidfVectorizer\n",
        "from sklearn.metrics.pairwise import cosine_similarity\n",
        "from Sastrawi.StopWordRemover.StopWordRemoverFactory import StopWordRemoverFactory\n",
        "from sklearn.preprocessing import MinMaxScaler\n",
        "from sklearn.model_selection import train_test_split\n",
        "\n",
        "# Collaborative Filtering\n",
        "\n",
        "def collaborative_filtering_tuning(train):\n",
        "    reader = Reader(rating_scale=(0, 1))\n",
        "    data_surprise = Dataset.load_from_df(\n",
        "        train[[\"ReviewerId\", \"PlaceID\", \"NormalRating\"]], reader\n",
        "    )\n",
        "    param_grid = {\n",
        "        \"n_factors\": [50, 100, 150],\n",
        "        \"n_epochs\": [10, 20, 30],\n",
        "        \"lr_all\": [0.002, 0.005, 0.01],\n",
        "        \"reg_all\": [0.02, 0.05, 0.1],\n",
        "    }\n",
        "    gs = GridSearchCV(SVD, param_grid, measures=[\"rmse\", \"mae\"], cv=3)\n",
        "    gs.fit(data_surprise)\n",
        "    best_params = gs.best_params[\"rmse\"]\n",
        "    print(f\"Best parameters for SVD: {best_params}\")\n",
        "    best_svd = SVD(**best_params)\n",
        "    trainset = data_surprise.build_full_trainset()\n",
        "    best_svd.fit(trainset)\n",
        "    return best_svd\n",
        "\n",
        "# Content-Based Filtering\n",
        "\n",
        "def content_based_filtering_tuning(train):\n",
        "    factory = StopWordRemoverFactory()\n",
        "    stopwords = factory.get_stop_words()\n",
        "    params = {\n",
        "        \"max_features\": [100, 500, 1000],\n",
        "        \"ngram_range\": [(1, 1), (1, 2), (1, 3)],\n",
        "        \"stop_words\": [stopwords, None],\n",
        "    }\n",
        "    reviews = train[\"Reviews\"]\n",
        "    best_tfidf = None\n",
        "    best_score = -1\n",
        "    for max_features in params[\"max_features\"]:\n",
        "        for ngram_range in params[\"ngram_range\"]:\n",
        "            for stop_words in params[\"stop_words\"]:\n",
        "                tfidf = TfidfVectorizer(\n",
        "                    max_features=max_features,\n",
        "                    ngram_range=ngram_range,\n",
        "                    stop_words=stop_words,\n",
        "                )\n",
        "                try:\n",
        "                    tfidf_matrix = tfidf.fit_transform(reviews)\n",
        "                    score = cosine_similarity(tfidf_matrix).mean()\n",
        "                    if score > best_score:\n",
        "                        best_score = score\n",
        "                        best_tfidf = tfidf\n",
        "                except Exception as e:\n",
        "                    print(e)\n",
        "    print(f\"Best parameters for TF-IDF: {best_tfidf.get_params()}\")\n",
        "    tfidf_matrix = best_tfidf.fit_transform(reviews)\n",
        "    cosine_sim = cosine_similarity(tfidf_matrix)\n",
        "    return cosine_sim, best_tfidf\n",
        "\n",
        "# Hybrid Model\n",
        "def hybrid_model(train, validation, test, alpha=0.6):\n",
        "    best_svd = collaborative_filtering_tuning(train)\n",
        "    cosine_sim, _ = content_based_filtering_tuning(train)\n",
        "\n",
        "\n",
        "    hybrid_scores = []\n",
        "    for _, row in test.iterrows():\n",
        "        user_id = row[\"ReviewerId\"]\n",
        "        place_id = row[\"PlaceID\"]\n",
        "\n",
        "        cf_score = best_svd.predict(user_id, place_id).est\n",
        "        try:\n",
        "            cbf_score = cosine_sim[place_id].mean()\n",
        "        except IndexError:\n",
        "            cbf_score = 0\n",
        "\n",
        "\n",
        "        hybrid_score = alpha * cf_score + (1 - alpha) * cbf_score\n",
        "        hybrid_scores.append(hybrid_score)\n",
        "\n",
        "    return np.array(hybrid_scores)\n",
        "\n",
        "if __name__ == \"__main__\":\n",
        "    import pandas as pd\n",
        "\n",
        "\n",
        "    data = pd.DataFrame({\n",
        "        \"ReviewerId\": [1, 2, 3, 1, 2, 3, 4, 5],\n",
        "        \"PlaceID\": [101, 102, 103, 104, 105, 106, 107, 108],\n",
        "        \"NormalRating\": [0.8, 0.6, 0.7, 0.9, 0.5, 0.4, 0.9, 0.7],\n",
        "        \"Reviews\": [\n",
        "            \"Amazing place!\",\n",
        "            \"Not so great\",\n",
        "            \"Loved the food\",\n",
        "            \"Service was awesome\",\n",
        "            \"Too crowded but good taste\",\n",
        "            \"Average experience\",\n",
        "            \"Wonderful ambiance\",\n",
        "            \"Highly recommend\"\n",
        "        ]\n",
        "    })\n",
        "\n",
        "    # Membagi data menjadi train (70%), validation (15%), dan test (15%)\n",
        "    train_data, temp_data = train_test_split(data, test_size=0.3, random_state=42)\n",
        "    validation_data, test_data = train_test_split(temp_data, test_size=0.5, random_state=42)\n",
        "\n",
        "    hybrid_scores = hybrid_model(train_data, validation_data, test_data, alpha=0.7)\n",
        "    print(\"Hybrid Scores:\", hybrid_scores)\n"
      ],
      "metadata": {
        "colab": {
          "base_uri": "https://localhost:8080/"
        },
        "id": "mjJ3cEKxNruu",
        "outputId": "90e3a29c-2a1f-4581-ba4c-12085f804578"
      },
      "execution_count": 30,
      "outputs": [
        {
          "output_type": "stream",
          "name": "stdout",
          "text": [
            "Best parameters for SVD: {'n_factors': 50, 'n_epochs': 10, 'lr_all': 0.002, 'reg_all': 0.02}\n",
            "Best parameters for TF-IDF: {'analyzer': 'word', 'binary': False, 'decode_error': 'strict', 'dtype': <class 'numpy.float64'>, 'encoding': 'utf-8', 'input': 'content', 'lowercase': True, 'max_df': 1.0, 'max_features': 100, 'min_df': 1, 'ngram_range': (1, 1), 'norm': 'l2', 'preprocessor': None, 'smooth_idf': True, 'stop_words': ['yang', 'untuk', 'pada', 'ke', 'para', 'namun', 'menurut', 'antara', 'dia', 'dua', 'ia', 'seperti', 'jika', 'jika', 'sehingga', 'kembali', 'dan', 'tidak', 'ini', 'karena', 'kepada', 'oleh', 'saat', 'harus', 'sementara', 'setelah', 'belum', 'kami', 'sekitar', 'bagi', 'serta', 'di', 'dari', 'telah', 'sebagai', 'masih', 'hal', 'ketika', 'adalah', 'itu', 'dalam', 'bisa', 'bahwa', 'atau', 'hanya', 'kita', 'dengan', 'akan', 'juga', 'ada', 'mereka', 'sudah', 'saya', 'terhadap', 'secara', 'agar', 'lain', 'anda', 'begitu', 'mengapa', 'kenapa', 'yaitu', 'yakni', 'daripada', 'itulah', 'lagi', 'maka', 'tentang', 'demi', 'dimana', 'kemana', 'pula', 'sambil', 'sebelum', 'sesudah', 'supaya', 'guna', 'kah', 'pun', 'sampai', 'sedangkan', 'selagi', 'sementara', 'tetapi', 'apakah', 'kecuali', 'sebab', 'selain', 'seolah', 'seraya', 'seterusnya', 'tanpa', 'agak', 'boleh', 'dapat', 'dsb', 'dst', 'dll', 'dahulu', 'dulunya', 'anu', 'demikian', 'tapi', 'ingin', 'juga', 'nggak', 'mari', 'nanti', 'melainkan', 'oh', 'ok', 'seharusnya', 'sebetulnya', 'setiap', 'setidaknya', 'sesuatu', 'pasti', 'saja', 'toh', 'ya', 'walau', 'tolong', 'tentu', 'amat', 'apalagi', 'bagaimanapun'], 'strip_accents': None, 'sublinear_tf': False, 'token_pattern': '(?u)\\\\b\\\\w\\\\w+\\\\b', 'tokenizer': None, 'use_idf': True, 'vocabulary': None}\n",
            "Hybrid Scores: [0.51413551 0.51812251]\n"
          ]
        }
      ]
    },
    {
      "cell_type": "markdown",
      "source": [
        "Mengimplementasikan Model Hybrid Model (Collaborative + Content - Based Filtering) dimana\n",
        "1. Collaborative Filtering: Berdasarkan interaksi pengguna dan tempat (ratings).*\n",
        "2. Content-Based Filtering: Berdasarkan kesamaan konten (ulasan teks) dari tempat-tempat yang direkomendasikan.*"
      ],
      "metadata": {
        "id": "UT-Xcnh0JM-2"
      }
    },
    {
      "cell_type": "markdown",
      "source": [
        "## Evaluation - Test Set (Rating-Based)"
      ],
      "metadata": {
        "id": "2hNjNc5UVHK8"
      }
    },
    {
      "cell_type": "code",
      "source": [
        "import numpy as np\n",
        "from sklearn.metrics import mean_squared_error, mean_absolute_error\n",
        "\n",
        "def evaluate_test_set(test, svd):\n",
        "    test[\"PredictedRating\"] = test.apply(\n",
        "        lambda x: svd.predict(x[\"ReviewerId\"], x[\"PlaceID\"]).est, axis=1\n",
        "    )\n",
        "    rmse = np.sqrt(mean_squared_error(test[\"NormalRating\"], test[\"PredictedRating\"]))\n",
        "    mae = mean_absolute_error(test[\"NormalRating\"], test[\"PredictedRating\"])\n",
        "    return rmse, mae\n"
      ],
      "metadata": {
        "id": "KkHWeyRrS42l"
      },
      "execution_count": 31,
      "outputs": []
    },
    {
      "cell_type": "markdown",
      "source": [
        "Fungsi evaluate_test_set mengukur seberapa baik model SVD (Collaborative Filtering) dalam memprediksi rating yang diberikan oleh pengguna terhadap tempat dengan menggunakan dua metrik evaluasi utama: RMSE dan MAE. Metrik ini membantu untuk menilai performa model dalam memberikan rekomendasi yang akurat."
      ],
      "metadata": {
        "id": "iHAAxi7tKcy3"
      }
    },
    {
      "cell_type": "markdown",
      "source": [
        "## Evaluation - Validation Set (Ranking-Based)"
      ],
      "metadata": {
        "id": "Qlky0o-dVMzm"
      }
    },
    {
      "cell_type": "code",
      "source": [
        "from sklearn.metrics import precision_score, recall_score\n",
        "\n",
        "def evaluate_ranking_based(val):\n",
        "    val[\"Relevant\"] = val[\"NormalRating\"] >= 0.5\n",
        "    val[\"Recommended\"] = val[\"HybridScore\"] >= 0.5\n",
        "    precision = precision_score(val[\"Relevant\"], val[\"Recommended\"])\n",
        "    recall = recall_score(val[\"Relevant\"], val[\"Recommended\"])\n",
        "\n",
        "    # Sort by HybridScore to calculate precision at k\n",
        "    val = val.sort_values(\"HybridScore\", ascending=False)\n",
        "    val[\"Rank\"] = range(1, len(val) + 1)\n",
        "    val[\"CumulativeRelevant\"] = val[\"Relevant\"].cumsum()\n",
        "    val[\"PrecisionAtK\"] = val[\"CumulativeRelevant\"] / val[\"Rank\"]\n",
        "\n",
        "    # Mean Average Precision at k\n",
        "    map_score = val.loc[val[\"Relevant\"], \"PrecisionAtK\"].mean()\n",
        "\n",
        "    return precision, recall, map_score\n"
      ],
      "metadata": {
        "id": "AuVato1tS9BP"
      },
      "execution_count": 32,
      "outputs": []
    },
    {
      "cell_type": "markdown",
      "source": [
        "## Fungsi `evaluate_ranking_based`\n",
        "\n",
        "Fungsi `evaluate_ranking_based` mengukur kinerja sistem rekomendasi berbasis urutan peringkat dengan menggunakan tiga metrik utama:\n",
        "\n",
        "1. **Precision**:\n",
        "   - Mengukur akurasi rekomendasi relevan.\n",
        "   - Precision dihitung dengan cara membandingkan jumlah item relevan yang direkomendasikan dengan total item yang direkomendasikan.\n",
        "\n",
        "2. **Recall**:\n",
        "   - Mengukur kemampuan sistem dalam merekomendasikan item relevan.\n",
        "   - Recall dihitung dengan cara membandingkan jumlah item relevan yang direkomendasikan dengan total item relevan yang seharusnya direkomendasikan.\n",
        "\n",
        "3. **MAP (Mean Average Precision)**:\n",
        "   - Mengukur kualitas rekomendasi pada posisi teratas berdasarkan relevansi kumulatif.\n",
        "   - MAP dihitung dengan menghitung rata-rata dari precision pada setiap posisi yang relevan.\n",
        "\n",
        "Berikut adalah penjelasan singkat dari ketiga metrik tersebut:\n",
        "- **Precision**: Mengukur proporsi rekomendasi yang benar-benar relevan.\n",
        "- **Recall**: Mengukur seberapa banyak item relevan yang berhasil direkomendasikan.\n",
        "- **MAP**: Mengukur kualitas rekomendasi dengan menilai akurasi di posisi teratas hasil rekomendasi.\n"
      ],
      "metadata": {
        "id": "6rDCtuqqK-I4"
      }
    },
    {
      "cell_type": "markdown",
      "source": [
        "latih model SVD\n"
      ],
      "metadata": {
        "id": "niBr9G4UZDPK"
      }
    },
    {
      "cell_type": "code",
      "source": [
        "best_svd = SVD(n_factors=100, n_epochs=20, lr_all=0.005, reg_all=0.02)  # Parameter contoh\n",
        "trainset = Dataset.load_from_df(train_data[['ReviewerId', 'PlaceID', 'NormalRating']], Reader(rating_scale=(0, 1))).build_full_trainset()\n",
        "best_svd.fit(trainset)"
      ],
      "metadata": {
        "colab": {
          "base_uri": "https://localhost:8080/"
        },
        "id": "Y3neh6NCTAPj",
        "outputId": "d297661f-98a9-4d45-8e7c-8e8b0d6d8274"
      },
      "execution_count": 33,
      "outputs": [
        {
          "output_type": "execute_result",
          "data": {
            "text/plain": [
              "<surprise.prediction_algorithms.matrix_factorization.SVD at 0x7ccf965cdc90>"
            ]
          },
          "metadata": {},
          "execution_count": 33
        }
      ]
    },
    {
      "cell_type": "markdown",
      "source": [
        "## Evaluasi dengan Fungsi evaluate_test_set"
      ],
      "metadata": {
        "id": "GBMRJerVZJqZ"
      }
    },
    {
      "cell_type": "code",
      "source": [
        "rmse, mae = evaluate_test_set(test_data, best_svd)\n",
        "print(f\"RMSE pada test set: {rmse}\")\n",
        "print(f\"MAE pada test set: {mae}\")"
      ],
      "metadata": {
        "colab": {
          "base_uri": "https://localhost:8080/"
        },
        "id": "d-KPHjY9ZGpl",
        "outputId": "39898e9b-7210-416c-8d63-6bc91ce45972"
      },
      "execution_count": 34,
      "outputs": [
        {
          "output_type": "stream",
          "name": "stdout",
          "text": [
            "RMSE pada test set: 0.246390682958962\n",
            "MAE pada test set: 0.2230690882282088\n"
          ]
        }
      ]
    },
    {
      "cell_type": "code",
      "source": [
        "hybrid_scores = hybrid_model(train_data, validation_data, test_data, alpha=0.7)\n",
        "print(\"Hybrid Scores:\", hybrid_scores)"
      ],
      "metadata": {
        "colab": {
          "base_uri": "https://localhost:8080/"
        },
        "id": "26bKu8OoZWxF",
        "outputId": "e56c5819-3787-405f-f470-cb3e996ce762"
      },
      "execution_count": 35,
      "outputs": [
        {
          "output_type": "stream",
          "name": "stdout",
          "text": [
            "Best parameters for SVD: {'n_factors': 50, 'n_epochs': 10, 'lr_all': 0.002, 'reg_all': 0.02}\n",
            "Best parameters for TF-IDF: {'analyzer': 'word', 'binary': False, 'decode_error': 'strict', 'dtype': <class 'numpy.float64'>, 'encoding': 'utf-8', 'input': 'content', 'lowercase': True, 'max_df': 1.0, 'max_features': 100, 'min_df': 1, 'ngram_range': (1, 1), 'norm': 'l2', 'preprocessor': None, 'smooth_idf': True, 'stop_words': ['yang', 'untuk', 'pada', 'ke', 'para', 'namun', 'menurut', 'antara', 'dia', 'dua', 'ia', 'seperti', 'jika', 'jika', 'sehingga', 'kembali', 'dan', 'tidak', 'ini', 'karena', 'kepada', 'oleh', 'saat', 'harus', 'sementara', 'setelah', 'belum', 'kami', 'sekitar', 'bagi', 'serta', 'di', 'dari', 'telah', 'sebagai', 'masih', 'hal', 'ketika', 'adalah', 'itu', 'dalam', 'bisa', 'bahwa', 'atau', 'hanya', 'kita', 'dengan', 'akan', 'juga', 'ada', 'mereka', 'sudah', 'saya', 'terhadap', 'secara', 'agar', 'lain', 'anda', 'begitu', 'mengapa', 'kenapa', 'yaitu', 'yakni', 'daripada', 'itulah', 'lagi', 'maka', 'tentang', 'demi', 'dimana', 'kemana', 'pula', 'sambil', 'sebelum', 'sesudah', 'supaya', 'guna', 'kah', 'pun', 'sampai', 'sedangkan', 'selagi', 'sementara', 'tetapi', 'apakah', 'kecuali', 'sebab', 'selain', 'seolah', 'seraya', 'seterusnya', 'tanpa', 'agak', 'boleh', 'dapat', 'dsb', 'dst', 'dll', 'dahulu', 'dulunya', 'anu', 'demikian', 'tapi', 'ingin', 'juga', 'nggak', 'mari', 'nanti', 'melainkan', 'oh', 'ok', 'seharusnya', 'sebetulnya', 'setiap', 'setidaknya', 'sesuatu', 'pasti', 'saja', 'toh', 'ya', 'walau', 'tolong', 'tentu', 'amat', 'apalagi', 'bagaimanapun'], 'strip_accents': None, 'sublinear_tf': False, 'token_pattern': '(?u)\\\\b\\\\w\\\\w+\\\\b', 'tokenizer': None, 'use_idf': True, 'vocabulary': None}\n",
            "Hybrid Scores: [0.51526511 0.51771308]\n"
          ]
        }
      ]
    },
    {
      "cell_type": "markdown",
      "source": [
        "## 1. Menghitung Precision dan Recall:"
      ],
      "metadata": {
        "id": "0FDuYT6caNBT"
      }
    },
    {
      "cell_type": "code",
      "source": [
        "import numpy as np\n",
        "import pandas as pd\n",
        "from sklearn.metrics import precision_score, recall_score\n",
        "from surprise import SVD, Dataset, Reader\n",
        "from surprise.model_selection import train_test_split\n",
        "\n",
        "# Memuat dataset Anda\n",
        "data = pd.read_csv(\"sample_data/Tempat-Wisata-Toba-Preprocessing.csv\")\n",
        "\n",
        "# Menentukan threshold untuk relevansi\n",
        "threshold = 0.5\n",
        "\n",
        "# Menentukan relevansi berdasarkan Rating\n",
        "data['Relevant'] = (data['Rating'] > threshold).astype(int)  # 1 = relevan, 0 = tidak relevan\n",
        "\n",
        "# Menyiapkan dataset untuk model rekomendasi\n",
        "reader = Reader(rating_scale=(0, 1))  # Skala rating 0-1\n",
        "dataset = Dataset.load_from_df(data[['ReviewerId', 'PlaceID', 'Rating']], reader)\n",
        "\n",
        "# Membagi dataset menjadi train dan test set\n",
        "trainset, testset = train_test_split(dataset, test_size=0.2)\n",
        "\n",
        "# Melatih model SVD (Singular Value Decomposition)\n",
        "svd = SVD()\n",
        "svd.fit(trainset)\n",
        "\n",
        "# Menghasilkan prediksi untuk test set\n",
        "predictions = []\n",
        "true_relevants = []  # Menyimpan nilai relevansi asli dari testset\n",
        "for uid, iid, true_r in testset:\n",
        "    pred = svd.predict(uid, iid)\n",
        "    predictions.append(pred.est)\n",
        "    # Menyimpan nilai relevansi asli untuk perbandingan\n",
        "    true_relevants.append(int(true_r > threshold))  # Langsung mengonversi boolean ke integer\n",
        "\n",
        "# Mengonversi prediksi ke bentuk biner (1 = relevan, 0 = tidak relevan)\n",
        "predictions_binary = (np.array(predictions) >= threshold).astype(int)\n",
        "\n",
        "# Menghitung Precision dan Recall menggunakan data dari testset\n",
        "precision = precision_score(true_relevants, predictions_binary)\n",
        "recall = recall_score(true_relevants, predictions_binary)\n",
        "\n",
        "# Menampilkan hasil evaluasi\n",
        "print(f\"Precision: {precision}\")\n",
        "print(f\"Recall: {recall}\")\n"
      ],
      "metadata": {
        "colab": {
          "base_uri": "https://localhost:8080/"
        },
        "id": "c31n37KyZ1mU",
        "outputId": "9eded04e-d65d-4299-b0b2-57b88b14f8d0"
      },
      "execution_count": 53,
      "outputs": [
        {
          "output_type": "stream",
          "name": "stdout",
          "text": [
            "Precision: 1.0\n",
            "Recall: 1.0\n"
          ]
        }
      ]
    },
    {
      "cell_type": "markdown",
      "source": [
        "## 2. Menghitung MAP (Mean Average Precision):"
      ],
      "metadata": {
        "id": "eDzAeE8iaQjR"
      }
    },
    {
      "cell_type": "code",
      "source": [
        "import numpy as np\n",
        "\n",
        "def mean_average_precision_at_k(y_true, y_pred, k=10):\n",
        "    average_precisions = []\n",
        "\n",
        "    for i in range(len(y_true)):\n",
        "        relevant_items = y_true[i]\n",
        "        predicted_items = np.argsort(y_pred[i])[::-1][:k]  # Menyusun prediksi berdasarkan nilai tertinggi\n",
        "\n",
        "        # Hitung Precision pada setiap cut-off k\n",
        "        relevant_count = 0\n",
        "        precision_at_k = 0.0\n",
        "        for j in range(k):\n",
        "            if predicted_items[j] in relevant_items:\n",
        "                relevant_count += 1\n",
        "                precision_at_k += relevant_count / (j + 1)\n",
        "\n",
        "        if relevant_count > 0:\n",
        "            average_precisions.append(precision_at_k / relevant_count)\n",
        "\n",
        "    return np.mean(average_precisions) if average_precisions else 0.0\n",
        "\n",
        "# Contoh penggunaan:\n",
        "# y_true: Daftar relevansi ground truth (biner), misalnya 1 jika relevan, 0 jika tidak relevan\n",
        "# y_pred: Daftar skor prediksi untuk item-item yang direkomendasikan\n",
        "y_true = [[0, 1, 0, 1], [1, 0, 1, 0], [1, 1, 0, 0]]\n",
        "y_pred = [[0.9, 0.6, 0.8, 0.3], [0.5, 0.7, 0.4, 0.2], [0.8, 0.9, 0.7, 0.6]]\n",
        "\n",
        "# Menghitung MAP@K\n",
        "map_score = mean_average_precision_at_k(y_true, y_pred, k=3)\n",
        "print(f\"MAP Score: {map_score}\")\n"
      ],
      "metadata": {
        "colab": {
          "base_uri": "https://localhost:8080/"
        },
        "id": "u4Jx5XTBaMBN",
        "outputId": "cae4edaa-430e-414c-a8fa-0ad667a98dff"
      },
      "execution_count": 57,
      "outputs": [
        {
          "output_type": "stream",
          "name": "stdout",
          "text": [
            "MAP Score: 0.9444444444444443\n"
          ]
        }
      ]
    },
    {
      "cell_type": "markdown",
      "source": [
        "## Menampilkan RMSE, MAE, Precision, Recall, MAP."
      ],
      "metadata": {
        "id": "PkcyhCsaYwld"
      }
    },
    {
      "cell_type": "code",
      "source": [
        "import matplotlib.pyplot as plt\n",
        "\n",
        "# Nilai yang ingin ditampilkan\n",
        "metrics = ['RMSE', 'MAE', 'Precision', 'Recall', 'MAP']\n",
        "values = [0.246390682958962, 0.2230690882282088, 1.0, 1.0, 0.9444444444444443]\n",
        "\n",
        "# Membuat bar chart\n",
        "plt.figure(figsize=(10, 6))\n",
        "plt.bar(metrics, values, color=['blue', 'red', 'green', 'purple', 'orange'])\n",
        "\n",
        "# Menambahkan judul dan label\n",
        "plt.title('Model Evaluation Metrics', fontsize=16)\n",
        "plt.ylabel('Score', fontsize=12)\n",
        "plt.ylim(0, 1.2)  # Untuk memastikan semua nilai bisa terlihat dengan jelas\n",
        "\n",
        "# Menampilkan nilai di atas setiap bar\n",
        "for i, v in enumerate(values):\n",
        "    plt.text(i, v + 0.02, f'{v:.2f}', ha='center', va='bottom', fontsize=12)\n",
        "\n",
        "# Menampilkan plot\n",
        "plt.show()\n"
      ],
      "metadata": {
        "colab": {
          "base_uri": "https://localhost:8080/",
          "height": 547
        },
        "id": "E-VlNiKMY1hg",
        "outputId": "e315ab27-5057-411d-d487-8f0bfac5c342"
      },
      "execution_count": 60,
      "outputs": [
        {
          "output_type": "display_data",
          "data": {
            "text/plain": [
              "<Figure size 1000x600 with 1 Axes>"
            ],
            "image/png": "[encoded data removed]"
          },
          "metadata": {}
        }
      ]
    },
    {
      "cell_type": "code",
      "source": [
        "import pandas as pd\n",
        "import matplotlib.pyplot as plt\n",
        "\n",
        "# Memuat dataset dari file CSV\n",
        "data = pd.read_csv(\"sample_data/Tempat-Wisata-Toba-Preprocessing.csv\")\n",
        "\n",
        "# Memastikan data dimuat dengan benar\n",
        "print(data.head())  # Cek beberapa baris pertama untuk memastikan data sudah benar\n",
        "\n",
        "# Pastikan kolom-kolom yang diperlukan ada\n",
        "if 'Rating' not in data.columns or 'Nama_tempat_wisata' not in data.columns:\n",
        "    raise ValueError(\"Data tidak memiliki kolom yang diperlukan, pastikan ada 'Rating' dan 'Nama_tempat_wisata'.\")\n",
        "\n",
        "# Menghapus duplikat jika ada\n",
        "data = data.drop_duplicates(subset=['Nama_tempat_wisata', 'Rating'])\n",
        "\n",
        "# Mengurutkan data berdasarkan Rating\n",
        "top_places = data.sort_values(by=\"Rating\", ascending=False)\n",
        "\n",
        "# Menampilkan 5 tempat wisata teratas\n",
        "top_5_places = top_places.head(5)\n",
        "\n",
        "# Plotting dengan Matplotlib\n",
        "plt.figure(figsize=(8, 5))\n",
        "plt.barh(top_5_places[\"Nama_tempat_wisata\"], top_5_places[\"Rating\"], color=\"skyblue\", align='center')\n",
        "\n",
        "# Menambahkan label dan judul\n",
        "plt.xlabel(\"Predicted Rating\")\n",
        "plt.ylabel(\"Nama_tempat_wisata\")\n",
        "plt.title(\"Top 5 Recommended Places to Visit\")\n",
        "\n",
        "# Menampilkan skor pada bar\n",
        "for index, value in enumerate(top_5_places[\"Rating\"]):\n",
        "    plt.text(value - 0.1, index, f'{value:.2f}', va='center', ha='right', fontsize=12, color='black')\n",
        "\n",
        "# Menampilkan gambar\n",
        "plt.tight_layout()\n",
        "plt.show()\n"
      ],
      "metadata": {
        "colab": {
          "base_uri": "https://localhost:8080/",
          "height": 975
        },
        "id": "Ync3yxdYaaBb",
        "outputId": "11fddbe7-aa1c-4965-d784-6ff6983c8f48"
      },
      "execution_count": 68,
      "outputs": [
        {
          "output_type": "stream",
          "name": "stdout",
          "text": [
            "   Unnamed: 0.1  Unnamed: 0  \\\n",
            "0             0           0   \n",
            "1             1           1   \n",
            "2             2           2   \n",
            "3             3           3   \n",
            "4             4           4   \n",
            "\n",
            "                                             address  PlaceID  \\\n",
            "0  Jl. Sibola Hotang, Sibola Hotangsas, Kec. Bali...        0   \n",
            "1  Jl. Sibola Hotang, Sibola Hotangsas, Kec. Bali...        0   \n",
            "2  Jl. Sibola Hotang, Sibola Hotangsas, Kec. Bali...        0   \n",
            "3  Jl. Sibola Hotang, Sibola Hotangsas, Kec. Bali...        0   \n",
            "4  Jl. Sibola Hotang, Sibola Hotangsas, Kec. Bali...        0   \n",
            "\n",
            "          Nama_tempat_wisata       Category    ReviewerId  Rating  \\\n",
            "0  PASIR PUTIH LUMBAN BULBUL  Wisata Bahari  1.126030e+20     5.0   \n",
            "1  PASIR PUTIH LUMBAN BULBUL  Wisata Bahari  1.119090e+20     5.0   \n",
            "2  PASIR PUTIH LUMBAN BULBUL  Wisata Bahari  1.078860e+20     5.0   \n",
            "3  PASIR PUTIH LUMBAN BULBUL  Wisata Bahari  1.130720e+20     5.0   \n",
            "4  PASIR PUTIH LUMBAN BULBUL  Wisata Bahari  1.061730e+20     5.0   \n",
            "\n",
            "                         Reviews  \n",
            "0                            NaN  \n",
            "1                          bagus  \n",
            "2                            NaN  \n",
            "3             sangat menyenagkan  \n",
            "4  bebas foto dimana aja cuma 2k  \n"
          ]
        },
        {
          "output_type": "display_data",
          "data": {
            "text/plain": [
              "<Figure size 800x500 with 1 Axes>"
            ],
            "image/png": "[encoded data removed]"
          },
          "metadata": {}
        }
      ]
    }
  ]
}